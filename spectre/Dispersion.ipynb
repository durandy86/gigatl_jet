{
 "cells": [
  {
   "cell_type": "code",
   "execution_count": 1,
   "metadata": {},
   "outputs": [],
   "source": [
    "#!/usr/bin/python\n",
    "# -*- coding:Utf-8 -*-\n",
    "import matplotlib.pyplot as plt\n",
    "import numpy as np\n",
    "from scipy.fftpack import fftfreq, fft, fft2, fftshift\n",
    "from scipy.signal import tukey, detrend\n",
    "from scipy.interpolate import interp2d\n",
    "import xarray as xr\n",
    "\n",
    "from definitionSpectre import *"
   ]
  },
  {
   "cell_type": "code",
   "execution_count": 2,
   "metadata": {},
   "outputs": [],
   "source": [
    "# Ouverture du fichiers netCDF pour GIGATL3 ou GIGATL6\n",
    "exp = 'GIGATL3_Equator'\n",
    "indir = '../'\n",
    "infile = indir+exp+'.nc'\n",
    "data = xr.open_dataset(infile)\n",
    "\n",
    "#Choix de la box pour le spectre\n",
    "latMin, latMax = [-0.3 , 0.3]\n",
    "lonMin, lonMax = [-40 , -00]\n",
    "depth = -1000"
   ]
  },
  {
   "cell_type": "code",
   "execution_count": 3,
   "metadata": {},
   "outputs": [
    {
     "ename": "NameError",
     "evalue": "name 'u_rgrd' is not defined",
     "output_type": "error",
     "traceback": [
      "\u001b[0;31m---------------------------------------------------------------------------\u001b[0m",
      "\u001b[0;31mNameError\u001b[0m                                 Traceback (most recent call last)",
      "\u001b[0;32m<ipython-input-3-295f597224ae>\u001b[0m in \u001b[0;36m<module>\u001b[0;34m\u001b[0m\n\u001b[1;32m     16\u001b[0m \u001b[0mv\u001b[0m\u001b[0;34m=\u001b[0m\u001b[0mdata\u001b[0m\u001b[0;34m.\u001b[0m\u001b[0mvCart\u001b[0m\u001b[0;34m.\u001b[0m\u001b[0mvalues\u001b[0m\u001b[0;34m\u001b[0m\u001b[0;34m\u001b[0m\u001b[0m\n\u001b[1;32m     17\u001b[0m \u001b[0;34m\u001b[0m\u001b[0m\n\u001b[0;32m---> 18\u001b[0;31m \u001b[0;32mfor\u001b[0m \u001b[0my_ind\u001b[0m \u001b[0;32min\u001b[0m \u001b[0mrange\u001b[0m\u001b[0;34m(\u001b[0m\u001b[0mu_rgrd\u001b[0m\u001b[0;34m.\u001b[0m\u001b[0mshape\u001b[0m\u001b[0;34m[\u001b[0m\u001b[0;36m1\u001b[0m\u001b[0;34m]\u001b[0m\u001b[0;34m)\u001b[0m\u001b[0;34m:\u001b[0m\u001b[0;34m\u001b[0m\u001b[0;34m\u001b[0m\u001b[0m\n\u001b[0m\u001b[1;32m     19\u001b[0m     \u001b[0mnt\u001b[0m\u001b[0;34m,\u001b[0m\u001b[0mnx\u001b[0m \u001b[0;34m=\u001b[0m \u001b[0mu\u001b[0m\u001b[0;34m[\u001b[0m\u001b[0;34m:\u001b[0m\u001b[0;34m,\u001b[0m\u001b[0my_ind\u001b[0m\u001b[0;34m,\u001b[0m\u001b[0;34m:\u001b[0m\u001b[0;34m]\u001b[0m\u001b[0;34m.\u001b[0m\u001b[0mshape\u001b[0m\u001b[0;34m\u001b[0m\u001b[0;34m\u001b[0m\u001b[0m\n\u001b[1;32m     20\u001b[0m     \u001b[0mmt\u001b[0m\u001b[0;34m,\u001b[0m\u001b[0mmx\u001b[0m \u001b[0;34m=\u001b[0m \u001b[0mv\u001b[0m\u001b[0;34m[\u001b[0m\u001b[0;34m:\u001b[0m\u001b[0;34m,\u001b[0m\u001b[0my_ind\u001b[0m\u001b[0;34m,\u001b[0m\u001b[0;34m:\u001b[0m\u001b[0;34m]\u001b[0m\u001b[0;34m.\u001b[0m\u001b[0mshape\u001b[0m\u001b[0;34m\u001b[0m\u001b[0;34m\u001b[0m\u001b[0m\n",
      "\u001b[0;31mNameError\u001b[0m: name 'u_rgrd' is not defined"
     ]
    }
   ],
   "source": [
    "#Slice data box\n",
    "data = data.sel(x_rho = slice(lonMin,lonMax), y_rho = slice(latMin,latMax))\n",
    "data = data.sel(z_rho = depth,method = \"nearest\")\n",
    "\n",
    "### Resolution\n",
    "dx = data['x_rho'].diff(\"x_rho\").mean().values*111000\n",
    "dt = data['time'].diff(\"time\").mean().values.astype('timedelta64[s]').astype(np.float32)\n",
    "\n",
    "fx = 1./dx\n",
    "ft = 1./dt\n",
    "\n",
    "#Calcul du spectre\n",
    "Fsp=[]\n",
    "\n",
    "u=data.uCart.values\n",
    "v=data.vCart.values\n",
    "\n",
    "for y_ind in range(u_rgrd.shape[1]):\n",
    "    nt,nx = u[:,y_ind,:].shape\n",
    "    mt,mx = v[:,y_ind,:].shape\n",
    "\n",
    "    w,kx, Spu = compute_2d_spectrum(u[:,y_ind,:],nt,nx,dt,dx)\n",
    "    w ,kx , Spv = compute_2d_spectrum(v[:,y_ind,:],mt,mx,dt,dx)\n",
    "    \n",
    "    Fsp.append(Spv*0+Spu)\n",
    "\n",
    "Fsp = np.max(np.array(Fsp),0)"
   ]
  },
  {
   "cell_type": "code",
   "execution_count": null,
   "metadata": {},
   "outputs": [],
   "source": [
    "# dispersion relations dimensionalisée\n",
    "B=2.3e-11\n",
    "modes2 = xr.open_dataset('lambda.nc')"
   ]
  },
  {
   "cell_type": "code",
   "execution_count": null,
   "metadata": {},
   "outputs": [],
   "source": [
    "def plot_dimensional_dispR(M_modes,N_modes,kx,w,Fsp):\n",
    "    \"\"\"\n",
    "    Plot dispersion relation as a function of vertical modes\n",
    "    n=[1,..,N_modes]\n",
    "    \"\"\"\n",
    "    oneday=86400\n",
    "    onedeg=111000\n",
    "    D=True\n",
    "#     k=np.linspace(-5e-6,5e-6,np.shape(kx)[0])\n",
    "    k = kx\n",
    "    \n",
    "    f,ax1 = plt.subplots(figsize=(14,12)) \n",
    "    for n in range(0,N_modes):\n",
    "        omega_Y=yanai_relation(k,n,dim=D)\n",
    "        omega_K=kelvin_relation(k,n,dim=D)\n",
    "        if n==1:\n",
    "            lb=1\n",
    "        else:\n",
    "            lb=1\n",
    "\n",
    "        for m in range(1,M_modes):      \n",
    "            omega_R=rossby_relation(k,m,n ,dim=D)\n",
    "            omega_G=gravity_relation(k,m,n,dim=D)\n",
    "            if m==1:\n",
    "                lp='-'\n",
    "            else:\n",
    "                lp='--'\n",
    "            ax1.plot(k,omega_R,color='y',lw=lb,ls=lp)\n",
    "            ax1.plot(k,omega_G,color='r',lw=lb,ls=lp)\n",
    "\n",
    "        ax1.plot(k,omega_K, color='g',lw=lb)\n",
    "        ax1.plot(k,omega_Y, color='k',lw=lb)\n",
    "       \n",
    "    OMEGA,KX = np.meshgrid(w,kx)\n",
    "    cax = ax1.contourf(-KX,OMEGA,Fsp.T*1e-10,cmap=plt.cm.jet,levels = 52,vmax = 3.,vmin = 0, extend='max')\n",
    "#     cax = ax1.contourf(-KX,OMEGA,np.log10(Fsp.T/Fsp.max()),cmap=plt.cm.jet)\n",
    "    \n",
    "    cbar = plt.colorbar(cax)\n",
    "    \n",
    "    ax1.set_xlim(-.52e-5,.52e-5)\n",
    "    ax1.set_ylim(0.,1e-6)\n",
    "    ax1.grid('on')\n",
    "\n",
    "    ax1.tick_params(labelsize=15)\n",
    "\n",
    "    ax1.set_xlabel(\"k \"+r\"[$m^{-1}$]\",size=15)\n",
    "    ax1.set_ylabel(r\"$\\omega$ \"+r\"[$s^{-1}$]\",size=15)   \n",
    "\n",
    "    def xtick_function(r): return np.round(1./r)\n",
    "    def ytick_function(r): return np.round(1./r)\n",
    "\n",
    "    # points corresponding to experiments\n",
    "\n",
    "#     ax1.scatter(-1./(975*1000),1./(34*86400),s=150,color='y',zorder=20)\n",
    "#     plt.text(-1./(1025*1000),1./(33*86400),\"$A_{k_1}$\",fontsize=16)\n",
    "\n",
    "    f.tight_layout()\n",
    "    \n",
    "    plt.show(block=True)"
   ]
  },
  {
   "cell_type": "code",
   "execution_count": null,
   "metadata": {
    "scrolled": false
   },
   "outputs": [],
   "source": [
    "plot_dimensional_dispR(4,2,kx,w,Fsp)\n"
   ]
  },
  {
   "cell_type": "code",
   "execution_count": null,
   "metadata": {},
   "outputs": [],
   "source": []
  },
  {
   "cell_type": "code",
   "execution_count": null,
   "metadata": {},
   "outputs": [],
   "source": []
  }
 ],
 "metadata": {
  "kernelspec": {
   "display_name": "Python 3",
   "language": "python",
   "name": "python3"
  },
  "language_info": {
   "codemirror_mode": {
    "name": "ipython",
    "version": 3
   },
   "file_extension": ".py",
   "mimetype": "text/x-python",
   "name": "python",
   "nbconvert_exporter": "python",
   "pygments_lexer": "ipython3",
   "version": "3.7.10"
  }
 },
 "nbformat": 4,
 "nbformat_minor": 4
}
